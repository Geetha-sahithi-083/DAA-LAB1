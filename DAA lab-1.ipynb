{
 "cells": [
  {
   "cell_type": "code",
   "execution_count": 47,
   "id": "fc5ef4db",
   "metadata": {},
   "outputs": [],
   "source": [
    "#take a list a=[16,17,4,3,5,2] and compare each value in the list to numbers to the right in the list and print header \n"
   ]
  },
  {
   "cell_type": "code",
   "execution_count": 4,
   "id": "919c2dd7",
   "metadata": {},
   "outputs": [
    {
     "name": "stdout",
     "output_type": "stream",
     "text": [
      "2000\n"
     ]
    }
   ],
   "source": [
    "def printLeader(a,n):\n",
    "    for i in range (0,n):\n",
    "        j=i+1\n",
    "        Leader=True\n",
    "        \n",
    "        while j<n:\n",
    "            if a[i]<a[j]:\n",
    "                break\n",
    "            j+=1\n",
    "            \n",
    "        if Leader and j==n:\n",
    "            print(a[i])\n",
    "            \n",
    "               \n",
    "a=[16,17,40,3,500,2000]\n",
    "printLeader(a,len(a))"
   ]
  },
  {
   "cell_type": "code",
   "execution_count": 46,
   "id": "229efa48",
   "metadata": {},
   "outputs": [
    {
     "name": "stdout",
     "output_type": "stream",
     "text": [
      "[3, 4, 7, 8, 2, 6, 1]\n"
     ]
    }
   ],
   "source": [
    "#take a listand sort it in the form of a hill\n",
    "def hill(a,n):\n",
    "    hill=True\n",
    "    \n",
    "    for i in range (n-1):\n",
    "        \n",
    "        if hill is True:\n",
    "            if a[i]>a[i+1]:\n",
    "                a[i],a[i+1]=a[i+1],a[i]\n",
    "            elif a[i]<a[i+1]:\n",
    "                 a[i+1],a[i]=a[i+1],a[i]\n",
    "        hill=bool(1-hill)\n",
    "    print(a)\n",
    "a=[4,3,7,8,6,2,1]\n",
    "n=len(a)\n",
    "hill(a,n)\n",
    "    \n",
    "    "
   ]
  },
  {
   "cell_type": "code",
   "execution_count": 6,
   "id": "c5ca2d16",
   "metadata": {},
   "outputs": [],
   "source": []
  },
  {
   "cell_type": "code",
   "execution_count": 3,
   "id": "dcb18302",
   "metadata": {},
   "outputs": [
    {
     "name": "stdout",
     "output_type": "stream",
     "text": [
      "Hello world\n"
     ]
    }
   ],
   "source": []
  },
  {
   "cell_type": "markdown",
   "id": "4fdab7b6",
   "metadata": {},
   "source": []
  },
  {
   "cell_type": "code",
   "execution_count": 2,
   "id": "75ec6f3b",
   "metadata": {},
   "outputs": [
    {
     "name": "stdout",
     "output_type": "stream",
     "text": [
      "enter a1\n",
      "enter n8\n",
      "36.0\n",
      "4.0\n"
     ]
    }
   ],
   "source": [
    "a=int(input(\"enter a\"))\n",
    "n=int(input(\"enter n\"))\n",
    "N=(n-1)\n",
    "d=(a+1)-a\n",
    "A=a+(n-1)*d\n",
    "S=(n/2)*((2*a)+(n-1)*d)\n",
    "s=32\n",
    "print(S)\n",
    "print(S-s)\n",
    "\n"
   ]
  },
  {
   "cell_type": "code",
   "execution_count": 59,
   "id": "9a586932",
   "metadata": {},
   "outputs": [
    {
     "name": "stdout",
     "output_type": "stream",
     "text": [
      "LAB-02\n"
     ]
    }
   ],
   "source": [
    "print(\"LAB-02\")"
   ]
  },
  {
   "cell_type": "code",
   "execution_count": null,
   "id": "f8e08149",
   "metadata": {},
   "outputs": [],
   "source": [
    "# LAB-02\n",
    "#[12,3,4,1,6,9] AND SUM=24 FIND TRIPLETS using 3 loops ie of time complexity O(n'3)\n",
    "def Triplet(A,n,s):   \n",
    "    for i in range(0,n):\n",
    "        for j in range (i+1,n):\n",
    "            for k in range (j+1,n):\n",
    "                if A[i]+A[j]+A[k]==s:\n",
    "                    print(\"Triplet :\",A[i],A[j],A[k])\n",
    "A=[12,3,4,1,6,9]\n",
    "s=24\n",
    "n = len(A)\n",
    "Triplet(A,n,s)"
   ]
  },
  {
   "cell_type": "code",
   "execution_count": 57,
   "id": "fb1e35d3",
   "metadata": {},
   "outputs": [
    {
     "name": "stdout",
     "output_type": "stream",
     "text": [
      "[9, 3, 12]\n"
     ]
    }
   ],
   "source": [
    "#LAB-02\n",
    "# python program for above approach using two loops ie time complexity of O(n'2)\n",
    "A=[12,3,4,1,6,9]\n",
    "s = 24\n",
    "n = len(A)\n",
    "def Find(A, n, s, triplet):\n",
    "\n",
    "    if s == 0 and len(triplet) == 3:\n",
    "        print(triplet)\n",
    "        return True\n",
    "    if s<0 or n==0:\n",
    "        return False\n",
    "    return (Find(A, n-1, s-A[n-1], triplet+[A[n-1]])\n",
    "           or Find(A, n-1, s, triplet))\n",
    "\n",
    "\n",
    "if not Find(A, n, s, []):\n",
    "    print('does not exist')\n"
   ]
  },
  {
   "cell_type": "code",
   "execution_count": 35,
   "id": "780bb654",
   "metadata": {},
   "outputs": [
    {
     "name": "stdout",
     "output_type": "stream",
     "text": [
      "Sorted array: [0, 0, 1, 1, 2]\n"
     ]
    }
   ],
   "source": [
    "#LAB-02\n",
    "# sort the array A=[0,1,0,1,2,1] without using buble sort or selection sort\n",
    "def select_sort(a):\n",
    "    n = len(a)\n",
    "    for i in range(n):\n",
    "        swap = False\n",
    "        for j in range(0, n-i-1):\n",
    "            \n",
    "            if a[j] > a[j+1]:\n",
    "                a[j], a[j+1] = a[j+1], a[j]\n",
    "                swap = True\n",
    "        \n",
    "        if not swap:\n",
    "            break\n",
    "\n",
    "a = [0,0,1,2,1]\n",
    "bubble_sort(a)\n",
    "print(\"Sorted array:\", a)"
   ]
  },
  {
   "cell_type": "code",
   "execution_count": 41,
   "id": "6aa9fe41",
   "metadata": {},
   "outputs": [
    {
     "name": "stdout",
     "output_type": "stream",
     "text": [
      "[0, 0, 1, 1, 2]\n"
     ]
    }
   ],
   "source": [
    "#LAB-02\n",
    "#Sort the array without using sort command ,Selection sort ,Bubble sort\n",
    "def insert_Sort(A):\n",
    "    n = len(A) \n",
    "\n",
    "    if n <= 1:\n",
    "        return \n",
    "\n",
    "    for i in range(1, n):\n",
    "        key = A[i] \n",
    "        j = i-1\n",
    "        while  key < arr[j]: \n",
    "            A[j+1] = A[j] \n",
    "        A[j+1] = key \n",
    "\n",
    "\n",
    "A = [0,0,1,2,1]\n",
    "insert_Sort(arr)\n",
    "print(arr)"
   ]
  },
  {
   "cell_type": "code",
   "execution_count": 3,
   "id": "69329575",
   "metadata": {},
   "outputs": [
    {
     "name": "stdout",
     "output_type": "stream",
     "text": [
      "The original list is :  [1, 10, 11, 12, 11, 1]\n",
      "The list after removing duplicates :  [1, 10, 11, 12]\n"
     ]
    }
   ],
   "source": [
    "A = [1,10,11,12,11,1]\n",
    "print(\"The original list is : \" ,A)\n",
    "\n",
    "r = []\n",
    "for i in A:\n",
    "    if i not in r:\n",
    "        r.append(i)\n",
    "\n",
    "#\n",
    "print(\"The list after removing duplicates : \",r )\n"
   ]
  },
  {
   "cell_type": "code",
   "execution_count": 1,
   "id": "f7b38d24",
   "metadata": {},
   "outputs": [
    {
     "name": "stdout",
     "output_type": "stream",
     "text": [
      "Sorted array is: \n",
      "5 7 11 15 16 17 \n"
     ]
    }
   ],
   "source": [
    "#code for merge sort\n",
    "\n",
    "def mergeSort(A):\n",
    "    if len(A) > 1:\n",
    "\n",
    "       \n",
    "        mid = len(A)//2\n",
    "        L = A[:mid]\n",
    "        R = A[mid:]\n",
    "\n",
    "        \n",
    "        mergeSort(L)\n",
    "        mergeSort(R)\n",
    "\n",
    "        i = j = k = 0\n",
    "\n",
    "       \n",
    "        while i < len(L) and j < len(R):\n",
    "            if L[i] < R[j]:\n",
    "                A[k] = L[i]\n",
    "                i += 1\n",
    "            else:\n",
    "                A[k] = R[j]\n",
    "                j += 1\n",
    "            k += 1\n",
    "\n",
    "        \n",
    "        while i < len(L):\n",
    "            A[k] = L[i]\n",
    "            i += 1\n",
    "            k += 1\n",
    "\n",
    "        while j < len(R):\n",
    "            A[k] = R[j]\n",
    "            j += 1\n",
    "            k += 1\n",
    "\n",
    "\n",
    "\n",
    "def printA(A):\n",
    "    for i in range(len(A)):\n",
    "        print(A[i], end=\" \")\n",
    "    print()\n",
    "\n",
    "A = [5,7,16,15,11,17]\n",
    "mergeSort(A)\n",
    "print(\"Sorted array is: \")\n",
    "printA(A)\n"
   ]
  },
  {
   "cell_type": "code",
   "execution_count": 2,
   "id": "0716d36e",
   "metadata": {},
   "outputs": [
    {
     "name": "stdout",
     "output_type": "stream",
     "text": [
      "[7, 8, 9]\n",
      "[0, 0, 0]\n",
      "[1, 2, 3]\n"
     ]
    }
   ],
   "source": [
    "def matprint(M, row1, row2):\n",
    "    result = [[0, 0, 0],\n",
    "              [0, 0, 0],\n",
    "              [0, 0, 0]]\n",
    "\n",
    "    # Swap rows in the result matrix\n",
    "    result[row1], result[row2] = M[row2][:], M[row1][:]\n",
    "\n",
    "    for row in result:\n",
    "        print(row)\n",
    "\n",
    "# Example usage\n",
    "M = [[1, 2, 3],\n",
    "     [4, 5, 6],\n",
    "     [7, 8, 9]]\n",
    "\n",
    "row1 = 0\n",
    "row2 = 2\n",
    "\n",
    "matprint(M, row1, row2)\n",
    "\n"
   ]
  },
  {
   "cell_type": "code",
   "execution_count": 3,
   "id": "c77e5a21",
   "metadata": {},
   "outputs": [
    {
     "name": "stdout",
     "output_type": "stream",
     "text": [
      "[2, 1, 0]\n",
      "[5, 4, 3]\n",
      "[8, 7, 6]\n"
     ]
    }
   ],
   "source": [
    "Matrix=[[0,1,2],\n",
    "   [3,4,5],\n",
    "   [6,7,8]]\n",
    "for i in range(len(Matrix)):\n",
    "    result=Matrix[i][0]\n",
    "    Matrix[i][0]=Matrix[i][2]\n",
    "    Matrix[i][2]=result\n",
    "for m in Matrix:    \n",
    "    print(m)\n"
   ]
  },
  {
   "cell_type": "code",
   "execution_count": 25,
   "id": "ad5c00cf",
   "metadata": {},
   "outputs": [
    {
     "name": "stdout",
     "output_type": "stream",
     "text": [
      "[0, 0, 0]\n",
      "[0, 0, 0]\n",
      "[0, 0, 0]\n"
     ]
    }
   ],
   "source": [
    "def swap(M,r1,r2):\n",
    "    M=[[1,2,3],\n",
    "        [4 ,5,6],\n",
    "        [7,8,9]]\n",
    "    result = [[0,0,0],[0,0,0],[0,0,0]]\n",
    "    for i in range(len(M)):\n",
    "        for j in range(len(M)):\n",
    "            result[i][j] = M[j][i]\n",
    "        result[r1],result[r2]=result[r2],result[r1]\n",
    "        r1=0\n",
    "        r2=2\n",
    "        for row in result:\n",
    "            print(row)\n",
    "\n",
    "\n",
    "for row in result:\n",
    "    print(row)\n",
    "          \n",
    "\n",
    "     "
   ]
  },
  {
   "cell_type": "code",
   "execution_count": 6,
   "id": "8ee84620",
   "metadata": {},
   "outputs": [
    {
     "name": "stdout",
     "output_type": "stream",
     "text": [
      "[0, 1, 2, 3, 4, 5, 6, 7, 8, 9]\n"
     ]
    }
   ],
   "source": [
    "array=[2,3,1,0,4,5,7,6,9,8]\n",
    "for i in range(len(array)):\n",
    "    array[i]=i\n",
    "print(array)\n",
    "    \n"
   ]
  },
  {
   "cell_type": "code",
   "execution_count": 9,
   "id": "61ea2f56",
   "metadata": {},
   "outputs": [
    {
     "name": "stdout",
     "output_type": "stream",
     "text": [
      "Index of row with maximum 1s is 2\n"
     ]
    }
   ],
   "source": [
    "def first(a , l , h):\n",
    "\n",
    "    if(h >= l):\n",
    "\n",
    "        mid = l + (h- l)//2\n",
    "\n",
    "        if ( ( mid == 0 or a[mid-1] == 0) and a[mid] == 1):\n",
    "            return mid\n",
    "        \n",
    "        elif (a[mid] == 0):\n",
    "            return first(a, (mid + 1), h);\n",
    "\n",
    "        else:\n",
    "            return first(a, l, (mid -1));\n",
    "\n",
    "    return -1\n",
    "\n",
    "def Max1(mat):\n",
    "\n",
    "    max_row_index,Max = 0,-1\n",
    "\n",
    "    for i in range(R):\n",
    "\n",
    "        index = first (mat[i], 0, C-1)\n",
    "        if (index != -1 and C-index > Max):\n",
    "            Max = C - index;\n",
    "            max_row_index = i\n",
    "\n",
    "    return max_row_index\n",
    "\n",
    "mat = [[0, 0, 0, 1],\n",
    "    [0, 1, 1, 1],\n",
    "    [1, 1, 1, 1],\n",
    "    [0, 0, 0, 0]]\n",
    "print(\"Index of row with maximum 1s is \" + str(Max1(mat)))\n",
    "    "
   ]
  },
  {
   "cell_type": "code",
   "execution_count": 6,
   "id": "2a41802b",
   "metadata": {},
   "outputs": [
    {
     "name": "stdout",
     "output_type": "stream",
     "text": [
      "1 2 3 \n",
      "4 5 6 \n",
      "7 8 9 \n"
     ]
    }
   ],
   "source": [
    "#sort the matrix in the form of even odd\n",
    "M=[[7,6,5],\n",
    "  [1,2,3],\n",
    "  [8,4,9]]\n",
    "S=[]\n",
    "for i in range (n):\n",
    "    for j in range(n):\n",
    "        S.append(M[i][j])\n",
    "        \n",
    "S.sort()\n",
    "k=0\n",
    "for i in range(n):\n",
    "    for j in range(n):\n",
    "        M[i][j]=S[k]\n",
    "        k+=1\n",
    "        \n",
    "for i in range(n):\n",
    "    for j in range(n):\n",
    "        print(M[i][j], end=\" \")\n",
    "    print(\"\")\n",
    "        \n",
    "\n",
    "    \n"
   ]
  },
  {
   "cell_type": "code",
   "execution_count": 19,
   "id": "1118236b",
   "metadata": {},
   "outputs": [
    {
     "name": "stdout",
     "output_type": "stream",
     "text": [
      "1 2 3 \n",
      "4 5 6 \n",
      "7 8 9 \n"
     ]
    }
   ],
   "source": [
    "M=[[7,6,5],\n",
    "  [1,2,3],\n",
    "  [8,4,9]]\n",
    "S=[]\n",
    "for i in range (n):\n",
    "    for j in range(n):\n",
    "        S.append(M[i][j])\n",
    "        \n",
    "S.sort()\n",
    "k=0\n",
    "for i in range(n):\n",
    "    for j in range(n):\n",
    "        M[i][j]=S[k]\n",
    "        k+=1\n",
    "        \n",
    "for i in range(n):\n",
    "    for j in range(n):\n",
    "        print(M[i][j], end=\" \")\n",
    "    print(\"\")\n",
    "        \n",
    "def diagonals(d1,d2)\n"
   ]
  },
  {
   "cell_type": "code",
   "execution_count": 17,
   "id": "e669cc38",
   "metadata": {},
   "outputs": [
    {
     "name": "stdout",
     "output_type": "stream",
     "text": [
      "[0, 1, 0]\n",
      "[3, 0, 2]\n",
      "[0, 4, 0]\n"
     ]
    }
   ],
   "source": [
    "#make digonals 0\n",
    "def printM(mat, n, m):\n",
    "\n",
    "    for i in range(n):\n",
    "        for j in range(m):\n",
    "            print( mat[i][j],)\n",
    "\n",
    "    print()\n",
    "\n",
    "\n",
    "def diagonalzero(matrix, n, m):\n",
    "    for i in range(n):\n",
    "        for j in range(m):\n",
    "            if (i == j or (i + j + 1) == n):\n",
    "                mat[i][j] = 0\n",
    "\n",
    "\n",
    "if __name__ == \"__main__\":\n",
    "    n = 3\n",
    "    m = 3\n",
    "    mat = [[ 2, 1, 7 ],\n",
    "       [ 3, 7, 2 ],\n",
    "       [ 5, 4, 9 ]]\n",
    "    \n",
    "    diagonalzero(mat, n, m)\n",
    "    for a in mat:\n",
    "        print(a)\n",
    "    \n",
    "\n"
   ]
  },
  {
   "cell_type": "code",
   "execution_count": 4,
   "id": "44de41d2",
   "metadata": {},
   "outputs": [
    {
     "name": "stdout",
     "output_type": "stream",
     "text": [
      "-8\n"
     ]
    }
   ],
   "source": [
    "#multiply two integers wthout using logic operators,loops and bitwise operators\n",
    "def multiply(a,b):\n",
    "    if(b == 0):\n",
    "        return 0\n",
    "    if(b > 0 ):\n",
    "        return (a + multiply(a, b - 1))\n",
    "    else:\n",
    "        return -multiply(a, -b)\n",
    "print(multiply(2, -4)) "
   ]
  },
  {
   "cell_type": "code",
   "execution_count": 8,
   "id": "596ab835",
   "metadata": {},
   "outputs": [
    {
     "name": "stdout",
     "output_type": "stream",
     "text": [
      "enter the node to search12\n",
      "12 Not found\n"
     ]
    }
   ],
   "source": [
    "#search in binary search tree\n",
    "class Node:\n",
    "\n",
    "    def __init__(self, key):\n",
    "        self.key = key\n",
    "        self.left = None\n",
    "        self.right = None\n",
    "\n",
    "def insert(node, key):\n",
    "    if node is None:\n",
    "        return Node(key)\n",
    "\n",
    "    if key < node.key:\n",
    "        node.left = insert(node.left, key)\n",
    "    elif key > node.key:\n",
    "        node.right = insert(node.right, key)\n",
    "\n",
    "    return node\n",
    "\n",
    "def find(root, key):\n",
    "    if root is None or root.key == key:\n",
    "        return root\n",
    "\n",
    "    if root.key < key:\n",
    "        return find(root.right, key)\n",
    "\n",
    "    return find(root.left, key)\n",
    "\n",
    "if __name__ == '__main__':\n",
    "    root = None\n",
    "    root = insert(root, 50)\n",
    "    insert(root, 10)\n",
    "    insert(root, 8)\n",
    "    insert(root, 7)\n",
    "    insert(root, 9)\n",
    "    insert(root, 20)\n",
    "    insert(root, 15)\n",
    "    insert(root, 21)\n",
    "    \n",
    "    key = int(input(\"enter the node to search\"))\n",
    "\n",
    "    if find(root, key) is None:\n",
    "        print(key, \"Not found\")\n",
    "    else:\n",
    "        print(key, \"Found\")\n",
    "\n"
   ]
  },
  {
   "cell_type": "code",
   "execution_count": 41,
   "id": "f1c570bd",
   "metadata": {},
   "outputs": [
    {
     "name": "stdout",
     "output_type": "stream",
     "text": [
      "52\n"
     ]
    }
   ],
   "source": [
    "class Node:\n",
    "\n",
    "    def __init__(self, data):\n",
    "        self.data = data\n",
    "        self.left = None\n",
    "        self.right = None\n",
    "\n",
    "def leaf_Sum(root):\n",
    "    global total\n",
    "    if root is None:\n",
    "        return\n",
    "    if (root.left is None and root.right is None):\n",
    "        total += root.data\n",
    "    leafSum(root.left)\n",
    "    leafSum(root.right)\n",
    "\n",
    "if __name__=='__main__':\n",
    "    root = Node(10)\n",
    "    root.left = Node(8)\n",
    "    root.left.left = Node(7)\n",
    "    root.left.right = Node(9)\n",
    "    root.right = Node(20)\n",
    "    root.right.right = Node(21)\n",
    "    root.right.left = Node(15)\n",
    "\n",
    "    total = 0\n",
    "    leaf_Sum(root)\n",
    "    print(total)"
   ]
  },
  {
   "cell_type": "code",
   "execution_count": 7,
   "id": "2be00bbd",
   "metadata": {},
   "outputs": [
    {
     "name": "stdout",
     "output_type": "stream",
     "text": [
      "[10]\n",
      "[15, 5]\n",
      "[3, 7, 12, 18]\n",
      "[20, 16, 14, 11, 8, 6, 4, 2]\n"
     ]
    }
   ],
   "source": [
    "from collections import deque\n",
    "\n",
    "class Node:\n",
    "    def __init__(self, key):\n",
    "        self.key = key\n",
    "        self.left = None\n",
    "        self.right = None\n",
    "\n",
    "def insert(node, key):\n",
    "    if node is None:\n",
    "        return Node(key)\n",
    "    if key < node.key:\n",
    "        node.left = insert(node.left, key)\n",
    "    elif key > node.key:\n",
    "        node.right = insert(node.right, key)\n",
    "    return node\n",
    "\n",
    "def spiralTree(root):\n",
    "    if not root:\n",
    "        return\n",
    "\n",
    "    # Create a deque for level-order traversal\n",
    "    queue = deque([root])\n",
    "    reverse = False\n",
    "\n",
    "    while queue:\n",
    "        level_size = len(queue)\n",
    "        level_nodes = []\n",
    "\n",
    "        for _ in range(level_size):\n",
    "            if reverse:\n",
    "                current_node = queue.pop()\n",
    "                level_nodes.append(current_node.key)\n",
    "                if current_node.right:\n",
    "                    queue.appendleft(current_node.right)\n",
    "                if current_node.left:\n",
    "                    queue.appendleft(current_node.left)\n",
    "            else:\n",
    "                current_node = queue.popleft()\n",
    "                level_nodes.append(current_node.key)\n",
    "                if current_node.left:\n",
    "                    queue.append(current_node.left)\n",
    "                if current_node.right:\n",
    "                    queue.append(current_node.right)\n",
    "\n",
    "        print(level_nodes)\n",
    "        reverse = not reverse\n",
    "\n",
    "if __name__ == '__main__':\n",
    "    root = None\n",
    "    keys = [10, 5, 15, 3, 7, 12, 18, 2, 4, 6, 8, 11, 14, 16, 20]\n",
    "\n",
    "    for key in keys:\n",
    "        root = insert(root, key)\n",
    "\n",
    "    spiralTree(root)\n"
   ]
  },
  {
   "cell_type": "code",
   "execution_count": null,
   "id": "3d942625",
   "metadata": {},
   "outputs": [],
   "source": []
  }
 ],
 "metadata": {
  "kernelspec": {
   "display_name": "Python 3 (ipykernel)",
   "language": "python",
   "name": "python3"
  },
  "language_info": {
   "codemirror_mode": {
    "name": "ipython",
    "version": 3
   },
   "file_extension": ".py",
   "mimetype": "text/x-python",
   "name": "python",
   "nbconvert_exporter": "python",
   "pygments_lexer": "ipython3",
   "version": "3.9.13"
  }
 },
 "nbformat": 4,
 "nbformat_minor": 5
}
